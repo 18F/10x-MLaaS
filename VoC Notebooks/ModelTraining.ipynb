{
 "cells": [
  {
   "cell_type": "markdown",
   "metadata": {},
   "source": [
    "# Model Training\n",
    "\n",
    "This notebook builds a supervised macine learning classifer for the `Please tell us what you value most about this website` question from the site-wide usa.gov survey.\n",
    "\n",
    "The learning is supervised since the models rely on $1237$ hand-labeled comments, which can be found in `labeled_data/labeled_values.xlsx`.\n",
    "\n",
    "The best model (as identifed at the end of the notebook by the `VotingClassifer` is pickled so that it can be used on new data. That process is implemented in `CommentClassification.ipynb`\n",
    "\n",
    "*Note*:\n",
    ">Although this notebook only treats one of the four comment fields from the site-wide survey, some minor tweaking/refactoring could make it amenable to the other comment fields across both survey types. Of course, you'll need to hand label some comments first, as a I doubt these supervised models will perform well across sample groups.\n",
    "\n",
    "*Note*:\n",
    ">The grid searches do not contain extensive hyperparameter combinations. I ran those previously, inputting the best values. If you've got time - or a super fast processor - you can input a lot of hyperparamters into the param_grids and let the code run!\n",
    "\n",
    "# Table of Contents\n",
    "\n",
    " - [Imports](#imports)\n",
    " - [Read in the Data](#data)\n",
    " - [Exploratory Data Analysis](#eda)\n",
    " - [Text Normalization](#text_normalization)\n",
    " - [Text Vectorization](#text_vectorization)\n",
    " - [A Naive Bayes Model](#nb)\n",
    " - [Grid Search & Cross Validation](#gridsearchcv)\n",
    " - [Voting Classifier](#voting)"
   ]
  },
  {
   "cell_type": "markdown",
   "metadata": {},
   "source": [
    "<a id=\"imports\"></a>\n",
    "# Imports\n",
    "Many of these packages wil require a `pip install`. A few require extra work:\n",
    "\n",
    "#### Installing `spacy` and assets\n",
    "Open your terminal and enter the following:\n",
    ">`pip install spacy`<br>\n",
    "`python -m spacy download en`<br>\n",
    "`spacy download en_vectors_web_lg`\n",
    "\n",
    "\n",
    "#### Installing `nltk` assets\n",
    "After pip intalling nltk, you'll need to run these lines of code within a python interpreter (such as within this notebook). But you'll need to import nltk first.\n",
    ">`nltk.download('punkt')`<br>\n",
    "`nltk.download('wordnet')`<br>\n",
    "`nltk.download('averaged_perceptron_tagger')`<br>\n",
    "`nltk.download('stopwords')`<br>\n",
    "`nltk.download('words')`"
   ]
  },
  {
   "cell_type": "code",
   "execution_count": 1,
   "metadata": {},
   "outputs": [],
   "source": [
    "import math\n",
    "import dill as pickle\n",
    "import pandas as pd\n",
    "import warnings\n",
    "import re\n",
    "import os\n",
    "import contractions\n",
    "from bs4 import BeautifulSoup\n",
    "import unicodedata\n",
    "from string import punctuation\n",
    "import numpy as np\n",
    "from collections import defaultdict\n",
    "import matplotlib.pyplot as plt\n",
    "import seaborn as sns\n",
    "\n",
    "#sklearn imports\n",
    "from sklearn import metrics\n",
    "from sklearn.naive_bayes import MultinomialNB\n",
    "from sklearn.feature_extraction.text import TfidfVectorizer\n",
    "from sklearn.model_selection import GridSearchCV, train_test_split, StratifiedShuffleSplit\n",
    "from sklearn.base import BaseEstimator, TransformerMixin\n",
    "from sklearn.pipeline import FeatureUnion\n",
    "from sklearn.ensemble import RandomForestClassifier, ExtraTreesClassifier, AdaBoostClassifier, GradientBoostingClassifier, VotingClassifier\n",
    "from sklearn.preprocessing import LabelEncoder\n",
    "from imblearn.over_sampling import SMOTE\n",
    "#in order to use SMOTE, you've got to import Pipeline from imblearn\n",
    "from imblearn.pipeline import Pipeline\n",
    "from sklearn.feature_selection import SelectPercentile, f_classif\n",
    "from sklearn.linear_model import SGDClassifier, LogisticRegression, PassiveAggressiveClassifier\n",
    "from sklearn.preprocessing import StandardScaler\n",
    "from sklearn.svm import LinearSVC\n",
    "\n",
    "#NLP imports\n",
    "import gensim\n",
    "import spacy\n",
    "from nltk.tokenize.toktok import ToktokTokenizer\n",
    "from nltk.tokenize import word_tokenize\n",
    "from nltk.corpus import stopwords\n",
    "\n",
    "#set some options\n",
    "pd.options.display.max_colwidth = 200\n",
    "%matplotlib inline"
   ]
  },
  {
   "cell_type": "markdown",
   "metadata": {},
   "source": [
    "<a id=\"data\"></a>\n",
    "# Read in the Data"
   ]
  },
  {
   "cell_type": "code",
   "execution_count": 2,
   "metadata": {},
   "outputs": [],
   "source": [
    "labeled_comments_path = os.path.join('labeled_data','labeled_values.xlsx')\n",
    "comments_df = pd.read_excel(labeled_comments_path)\n",
    "#rename the column called 'Please tell us what you value most about this website.'\n",
    "comments_df.rename({'Please tell us what you value most about this website.':'Value Comment'},\n",
    "                   axis=1,\n",
    "                   inplace=True)"
   ]
  },
  {
   "cell_type": "code",
   "execution_count": 3,
   "metadata": {},
   "outputs": [],
   "source": [
    "#explicitly convert column to string\n",
    "comments_df['Value Comment'] = comments_df['Value Comment'].astype(str)"
   ]
  },
  {
   "cell_type": "markdown",
   "metadata": {},
   "source": [
    "<a id=\"eda\"></a>\n",
    "# Exploratory Data Analysis"
   ]
  },
  {
   "cell_type": "markdown",
   "metadata": {},
   "source": [
    "## Class balance"
   ]
  },
  {
   "cell_type": "code",
   "execution_count": 4,
   "metadata": {},
   "outputs": [
    {
     "data": {
      "text/plain": [
       "<matplotlib.axes._subplots.AxesSubplot at 0x1164e7048>"
      ]
     },
     "execution_count": 4,
     "metadata": {},
     "output_type": "execute_result"
    },
    {
     "data": {
      "image/png": "[encoded data removed]",
      "text/plain": [
       "<Figure size 576x432 with 1 Axes>"
      ]
     },
     "metadata": {},
     "output_type": "display_data"
    }
   ],
   "source": [
    "fig = plt.figure(figsize=(8,6))\n",
    "plt.title(\"Question:  Please tell us what you value most about this website.\\n\\nDistribution of responses\")\n",
    "comments_df['FLAG'] = comments_df['Value FLAG'].map({0:'ham', 1:'spam'})\n",
    "comments_df.groupby('FLAG')['Value Comment'].count().plot.bar(ylim=0)"
   ]
  },
  {
   "cell_type": "markdown",
   "metadata": {},
   "source": [
    "### Interpretation\n",
    "Slightly unbalanced classes, so consider stratified sampling for train-test-split and/or an upsampling algorithm."
   ]
  },
  {
   "cell_type": "markdown",
   "metadata": {},
   "source": [
    "## Likert data class balance"
   ]
  },
  {
   "cell_type": "code",
   "execution_count": 5,
   "metadata": {},
   "outputs": [
    {
     "name": "stdout",
     "output_type": "stream",
     "text": [
      "Good         526\n",
      "Very good    440\n",
      "Fair         166\n",
      "Very poor     83\n",
      "Poor          22\n",
      "Name: Based on today's visit, how would you rate your experience on the website overall? (Required question), dtype: int64\n",
      "\n",
      "Very likely                    613\n",
      "Likely                         342\n",
      "Neither likely nor unlikely    174\n",
      "Very unlikely                   84\n",
      "Unlikely                        24\n",
      "Name: How likely are you to return to USA.gov? (Required question), dtype: int64\n",
      "\n",
      "Very likely                    513\n",
      "Likely                         333\n",
      "Neither likely nor unlikely    244\n",
      "Very unlikely                   97\n",
      "Unlikely                        50\n",
      "Name: How likely are you to recommend this website to someone else? (Required question), dtype: int64\n",
      "\n",
      "Just browsing / not trying to accomplish anything specific    1234\n",
      "Yes, fully                                                       2\n",
      "No                                                               1\n",
      "Name: Were you able to accomplish everything you wanted on USA.gov today? (Required question), dtype: int64\n",
      "\n"
     ]
    }
   ],
   "source": [
    "ordinal_cols = [\"Based on today's visit, how would you rate your experience on the website overall? (Required question)\",\n",
    "               \"How likely are you to return to USA.gov? (Required question)\",\n",
    "               \"How likely are you to recommend this website to someone else? (Required question)\",\n",
    "               \"Were you able to accomplish everything you wanted on USA.gov today? (Required question)\"]\n",
    "for i in ordinal_cols:\n",
    "    print(comments_df[i].value_counts(),end=\"\\n\\n\")"
   ]
  },
  {
   "cell_type": "code",
   "execution_count": 6,
   "metadata": {},
   "outputs": [
    {
     "data": {
      "image/png": "[encoded data removed]",
      "text/plain": [
       "<Figure size 576x432 with 1 Axes>"
      ]
     },
     "metadata": {},
     "output_type": "display_data"
    },
    {
     "data": {
      "image/png": "[encoded data removed]",
      "text/plain": [
       "<Figure size 576x432 with 1 Axes>"
      ]
     },
     "metadata": {},
     "output_type": "display_data"
    },
    {
     "data": {
      "image/png": "[encoded data removed]",
      "text/plain": [
       "<Figure size 576x432 with 1 Axes>"
      ]
     },
     "metadata": {},
     "output_type": "display_data"
    }
   ],
   "source": [
    "#plot the responses to these questions\n",
    "for i in range(len(ordinal_cols)-1):\n",
    "    fig = plt.figure(figsize=(8,6))\n",
    "    plt.title(ordinal_cols[i]+\"\\n\\nDistribution of responses\")\n",
    "    comments_df.groupby(ordinal_cols[i])[ordinal_cols[i]].count().plot.bar(ylim=0)"
   ]
  },
  {
   "cell_type": "markdown",
   "metadata": {},
   "source": [
    "### Interpretation\n",
    "The accomplish question has very little variability, so I'm going to drop it.\n",
    "\n",
    "Also, I should consider converting these ordinal variables to numeric as opposed to dummy variables. This makes the assumption that there are even intervals between each response, but it saves us the trouble of wokring with sparse and dense matrices. I might also consider transforming these numerically encoded responses (e.g. squaring) so that the intervals are not evenly spaced. "
   ]
  },
  {
   "cell_type": "markdown",
   "metadata": {},
   "source": [
    "<a id=\"text_normalization\"></a>\n",
    "# Text Normalization"
   ]
  },
  {
   "cell_type": "code",
   "execution_count": 7,
   "metadata": {},
   "outputs": [],
   "source": [
    "# These might need to stay global until I can figure out how to include in the sklearn Pipeline.\n",
    "nlp = spacy.load('en', parse = False, tag=False, entity=False)\n",
    "tokenizer = ToktokTokenizer()\n",
    "stopword_list = stopwords.words('english')\n",
    "#we want the negatives\n",
    "stopword_list.remove('no')\n",
    "stopword_list.remove('not')\n",
    "\n",
    "def strip_html_tags(text):\n",
    "    soup = BeautifulSoup(text, \"html.parser\")\n",
    "    stripped_text = soup.get_text()\n",
    "    return stripped_text\n",
    "\n",
    "def replace_accented_chars(text):\n",
    "    #The normal form KD (NFKD) will apply the compatibility decomposition, \n",
    "    #i.e. replace all compatibility characters with their equivalents (from python.org). \n",
    "    text = unicodedata.normalize('NFKD', text).encode('ascii', 'ignore').decode('utf-8', 'ignore')\n",
    "    return text\n",
    "\n",
    "def expand_contractions(text, contraction_mapping=contractions.contractions_dict):\n",
    "    \n",
    "    contractions_pattern = re.compile('({})'.format('|'.join(contraction_mapping.keys())), \n",
    "                                      flags=re.IGNORECASE|re.DOTALL)\n",
    "    def expand_match(contraction):\n",
    "        match = contraction.group(0)\n",
    "        first_char = match[0]\n",
    "        if contraction_mapping.get(match):\n",
    "            expanded_contraction = contraction_mapping.get(match)\n",
    "        else:\n",
    "            expanded_contraction = contraction_mapping.get(match.lower())                    \n",
    "        if expanded_contraction:\n",
    "            expanded_contraction = first_char+expanded_contraction[1:]\n",
    "            return expanded_contraction\n",
    "        else:\n",
    "            pass\n",
    "        \n",
    "    expanded_text = contractions_pattern.sub(expand_match, text)\n",
    "    expanded_text = re.sub(\"'\", \"\", expanded_text)\n",
    "    return expanded_text\n",
    "\n",
    "def lemmatize_text(text):\n",
    "    text = nlp(text)\n",
    "    text = ' '.join([word.lemma_ if word.lemma_ != '-PRON-' else word.text for word in text])\n",
    "    return text\n",
    "\n",
    "def remove_stopwords(text, is_lower_case=False):\n",
    "    tokens = tokenizer.tokenize(text)\n",
    "    tokens = [token.strip() for token in tokens]\n",
    "    if is_lower_case:\n",
    "        filtered_tokens = [token for token in tokens if token not in stopword_list]\n",
    "    else:\n",
    "        filtered_tokens = [token for token in tokens if token.lower() not in stopword_list]\n",
    "    filtered_text = ' '.join(filtered_tokens)    \n",
    "    return filtered_text\n",
    "    \n",
    "def normalize_corpus(doc, html_stripping=True, contraction_expansion=True, text_lemmatization=True, \n",
    "                     stopword_removal=True):\n",
    "    \n",
    "    def get_profanity():\n",
    "        file_path = os.path.join(os.getcwd(),\"corpora\",\"profanity.csv\")\n",
    "        profanity = set(pd.read_csv(file_path).values.ravel().tolist())\n",
    "        return profanity\n",
    "\n",
    "    #url regex\n",
    "    url_re = re.compile(r\"\"\"(?i)\\b((?:https?://|www\\d{0,3}[.]|[a-z0-9.\\-]+[.][a-z]{2,4}/)(?:[^\\s()<>]+|\\(([^\\s()<>]+|(\\([^\\s()<>]+\\)))*\\))+(?:\\(([^\\s()<>]+|(\\([^\\s()<>]+\\)))*\\)|[^\\s`!()\\[\\]{};:'\".,<>?«»“”‘’]))\"\"\")\n",
    "    #email address regex\n",
    "    email_re = re.compile(r'(^[a-zA-Z0-9_.+-]+@[a-zA-Z0-9-]+\\.[a-zA-Z0-9-.]+$)')\n",
    "    #phone number regex\n",
    "    phone_re = re.compile(r'(?:(?:\\+?1\\s*(?:[.-]\\s*)?)?(?:\\(\\s*([2-9]1[02-9]|[2-9][02-8]1|[2-9][02-8][02-9])\\s*\\)|([2-9]1[02-9]|[2-9][02-8]1|[2-9][02-8][02-9]))\\s*(?:[.-]\\s*)?)?([2-9]1[02-9]|[2-9][02-9]1|[2-9][02-9]{2})\\s*(?:[.-]\\s*)?([0-9]{4})(?:\\s*(?:#|x\\.?|ext\\.?|extension)\\s*(\\d+))?')\n",
    "    #ssn regex\n",
    "    ssn_re = re.compile(r'^(?!219-09-9999|078-05-1120)(?!666|000|9\\d{2})\\d{3}[-]?(?!00)\\d{2}[-]?(?!0{4})\\d{4}$')\n",
    "    #profanity regex\n",
    "    profanity_regex = re.compile(r'\\b%s\\b' % r'\\b|\\b'.join(map(re.escape, get_profanity())))\n",
    "    \n",
    "    \n",
    "    doc = doc.lower()\n",
    "    \n",
    "    doc = profanity_regex.sub(\"criticaster\", doc)\n",
    "    doc = email_re.sub('blatherskite',doc)\n",
    "    doc = phone_re.sub('blatherskite',doc)\n",
    "    doc = ssn_re.sub('blatherskite',doc)\n",
    "    doc = url_re.sub('blatherskite',doc)\n",
    "    \n",
    "    # strip HTML\n",
    "    if html_stripping:\n",
    "        doc = strip_html_tags(doc)\n",
    "    # expand contractions    \n",
    "    if contraction_expansion:\n",
    "        doc = expand_contractions(doc)\n",
    "    # at least three characters long, cannot contain a number, and no more than 17 chars long\n",
    "    doc = re.findall(r'\\b[a-z][a-z][a-z]+\\b',doc)\n",
    "    doc = ' '.join(w for w in doc if w != 'nan' and len(w) <= 17)\n",
    "    # lemmatize text\n",
    "    if text_lemmatization:\n",
    "        doc = lemmatize_text(doc)\n",
    "    # remove stopwords\n",
    "    if stopword_removal:\n",
    "        doc = remove_stopwords(doc, is_lower_case=True)\n",
    "    if len(doc) == 0:\n",
    "        doc = \"spam\"    \n",
    "    return doc"
   ]
  },
  {
   "cell_type": "code",
   "execution_count": 8,
   "metadata": {},
   "outputs": [
    {
     "name": "stderr",
     "output_type": "stream",
     "text": [
      "/anaconda/lib/python3.6/site-packages/bs4/__init__.py:219: UserWarning: \"b'.'\" looks like a filename, not markup. You should probably open this file and pass the filehandle into Beautiful Soup.\n",
      "  ' Beautiful Soup.' % markup)\n"
     ]
    }
   ],
   "source": [
    "comments_df['Normalized Value Comment'] = comments_df['Value Comment'].apply(normalize_corpus)"
   ]
  },
  {
   "cell_type": "markdown",
   "metadata": {},
   "source": [
    "## Inspect Results of Texts Normalization\n",
    "Else garbage in, garbage out"
   ]
  },
  {
   "cell_type": "code",
   "execution_count": 2,
   "metadata": {},
   "outputs": [],
   "source": [
    "# look at five parsed comments to see the effect\n",
    "\n",
    "\n",
    "#random_comments = comments_df.sample(n=10, random_state = 123)\n",
    "#random_comments[['Value Comment','Normalized Value Comment']]"
   ]
  },
  {
   "cell_type": "code",
   "execution_count": 3,
   "metadata": {},
   "outputs": [],
   "source": [
    "## see instances of profanity being replaced\n",
    "\n",
    "#comments_df[comments_df['Normalized Value Comment'].str.contains('criticaster')][['Value Comment','Normalized Value Comment']]"
   ]
  },
  {
   "cell_type": "code",
   "execution_count": 4,
   "metadata": {},
   "outputs": [],
   "source": [
    "## see instances of ssns, urls, emails & phone numbers being being replaced with blatherskite\n",
    "\n",
    "#comments_df[comments_df['Normalized Value Comment'].str.contains('blatherskite')][['Value Comment','Normalized Value Comment']]"
   ]
  },
  {
   "cell_type": "code",
   "execution_count": 5,
   "metadata": {},
   "outputs": [],
   "source": [
    "## see instances of blanks being being replaced with spam\n",
    "\n",
    "#comments_df[comments_df['Normalized Value Comment'].str.contains('spam')][['Value Comment','Normalized Value Comment']]"
   ]
  },
  {
   "cell_type": "markdown",
   "metadata": {},
   "source": [
    "<a id=\"text_vectorization\"></a>\n",
    "# Text Vectorization\n",
    "Classifier algorithms cannot directly process text. They need the words represented as numerical feature vectors with a fixed size.\n",
    "\n",
    "We'll eventually use a variety of methods to do this, but for EDA purposes we'll use a simple yet powerful **bag of words model**: a model where for each document - a single comment in our case - the presence (and also the frequency) of words is taken into consideration, but the order in which they occur is ignored.\n",
    "\n",
    "More specifically, for each term in our dataset, we will calculate a measure called **Term Frequency, Inverse Document Frequency**, abbreviated to tf-idf. \n",
    "\n",
    ">Tf-idf, is a numerical statistic that is intended to reflect how important a word is to a document in a collection or corpus. It is often used as a weighting factor in searches of information retrieval, text mining, and user modeling. The tf-idf value increases proportionally to the number of times a word appears in the document and is offset by the frequency of the word in the corpus, which helps to adjust for the fact that some words appear more frequently in general.\n",
    "\n",
    "We will use `sklearn.feature_extraction.text.TfidfVectorizer` to calculate a `tf-idf` vector for each comment. We'll use the follwing parameters:\n",
    "\n",
    " - `sublinear_df` is set to `True` to use a logarithmic form for frequency.\n",
    " - `min_df` is the minimum numbers of documents a word must be present in to be kept. We'll set to `5`\n",
    " - `norm` is set to `l2`, to ensure all our feature vectors have a euclidian norm of 1.\n",
    " - `ngram_range` is set to `(1, 2)` to indicate that we want to consider both unigrams and bigrams."
   ]
  },
  {
   "cell_type": "code",
   "execution_count": 13,
   "metadata": {},
   "outputs": [
    {
     "data": {
      "text/plain": [
       "(1237, 316)"
      ]
     },
     "execution_count": 13,
     "metadata": {},
     "output_type": "execute_result"
    }
   ],
   "source": [
    "tfidf = TfidfVectorizer(sublinear_tf=True, \n",
    "                        min_df=5, \n",
    "                        norm='l2', \n",
    "                        encoding='latin-1', \n",
    "                        ngram_range=(1, 2))\n",
    "features = tfidf.fit_transform(comments_df['Normalized Value Comment']).toarray()\n",
    "labels = comments_df['Value FLAG']\n",
    "features.shape"
   ]
  },
  {
   "cell_type": "markdown",
   "metadata": {},
   "source": [
    "Now, each of the $1237$ comments is represented by $316$ features. Each of these features represents the `tf-idf` score for different unigrams and bigrams.\n",
    "\n",
    "Let's now find the terms that are the most correlated with `ham` and `spam`:"
   ]
  },
  {
   "cell_type": "code",
   "execution_count": 14,
   "metadata": {},
   "outputs": [],
   "source": [
    "tfidf = TfidfVectorizer(sublinear_tf=True, \n",
    "                        min_df=5, \n",
    "                        norm='l2', \n",
    "                        encoding='latin-1', \n",
    "                        ngram_range=(1, 2))\n",
    "# create separate DataFrames for ham and spam\n",
    "ham = comments_df[comments_df['Value FLAG']==0]\n",
    "spam = comments_df[comments_df['Value FLAG']==1]\n",
    "# learn the vocabulary of ALL messages and save it\n",
    "tfidf.fit(comments_df['Normalized Value Comment'])\n",
    "features = tfidf.get_feature_names()\n",
    "# create document-term matrices for ham and spam\n",
    "ham_dtm = tfidf.transform(ham['Normalized Value Comment'])\n",
    "spam_dtm = tfidf.transform(spam['Normalized Value Comment'])\n",
    "# count how many times EACH token appears across ALL ham messages\n",
    "ham_counts = np.sum(ham_dtm.toarray(), axis=0)\n",
    "# count how many times EACH token appears across ALL spam messages\n",
    "spam_counts = np.sum(spam_dtm.toarray(), axis=0)\n",
    "# create a DataFrame of tokens with their separate ham and spam counts\n",
    "token_counts = pd.DataFrame({'token':features, 'ham':ham_counts, 'spam':spam_counts})\n",
    "# add one to ham and spam counts to avoid dividing by zero (in the step that follows)\n",
    "token_counts['ham'] = token_counts.ham + 1\n",
    "token_counts['spam'] = token_counts.spam + 1\n",
    "# calculate ratio of spam-to-ham for each token\n",
    "token_counts['spam_score'] = token_counts.spam / token_counts.ham"
   ]
  },
  {
   "cell_type": "code",
   "execution_count": 15,
   "metadata": {},
   "outputs": [
    {
     "data": {
      "text/html": [
       "<div>\n",
       "<style scoped>\n",
       "    .dataframe tbody tr th:only-of-type {\n",
       "        vertical-align: middle;\n",
       "    }\n",
       "\n",
       "    .dataframe tbody tr th {\n",
       "        vertical-align: top;\n",
       "    }\n",
       "\n",
       "    .dataframe thead th {\n",
       "        text-align: right;\n",
       "    }\n",
       "</style>\n",
       "<table border=\"1\" class=\"dataframe\">\n",
       "  <thead>\n",
       "    <tr style=\"text-align: right;\">\n",
       "      <th></th>\n",
       "      <th>ham</th>\n",
       "      <th>spam</th>\n",
       "      <th>token</th>\n",
       "      <th>spam_score</th>\n",
       "    </tr>\n",
       "  </thead>\n",
       "  <tbody>\n",
       "    <tr>\n",
       "      <th>140</th>\n",
       "      <td>86.307867</td>\n",
       "      <td>2.96158</td>\n",
       "      <td>information</td>\n",
       "      <td>0.034314</td>\n",
       "    </tr>\n",
       "    <tr>\n",
       "      <th>72</th>\n",
       "      <td>41.190705</td>\n",
       "      <td>1.62826</td>\n",
       "      <td>easy</td>\n",
       "      <td>0.039530</td>\n",
       "    </tr>\n",
       "    <tr>\n",
       "      <th>67</th>\n",
       "      <td>21.264105</td>\n",
       "      <td>1.00000</td>\n",
       "      <td>ease</td>\n",
       "      <td>0.047028</td>\n",
       "    </tr>\n",
       "    <tr>\n",
       "      <th>61</th>\n",
       "      <td>16.140217</td>\n",
       "      <td>1.00000</td>\n",
       "      <td>design</td>\n",
       "      <td>0.061957</td>\n",
       "    </tr>\n",
       "    <tr>\n",
       "      <th>184</th>\n",
       "      <td>15.066805</td>\n",
       "      <td>1.00000</td>\n",
       "      <td>navigate</td>\n",
       "      <td>0.066371</td>\n",
       "    </tr>\n",
       "  </tbody>\n",
       "</table>\n",
       "</div>"
      ],
      "text/plain": [
       "           ham     spam        token  spam_score\n",
       "140  86.307867  2.96158  information    0.034314\n",
       "72   41.190705  1.62826         easy    0.039530\n",
       "67   21.264105  1.00000         ease    0.047028\n",
       "61   16.140217  1.00000       design    0.061957\n",
       "184  15.066805  1.00000     navigate    0.066371"
      ]
     },
     "execution_count": 15,
     "metadata": {},
     "output_type": "execute_result"
    }
   ],
   "source": [
    "# 5 least spammy words\n",
    "token_counts.sort_values('spam_score').head()"
   ]
  },
  {
   "cell_type": "code",
   "execution_count": 16,
   "metadata": {},
   "outputs": [
    {
     "data": {
      "text/html": [
       "<div>\n",
       "<style scoped>\n",
       "    .dataframe tbody tr th:only-of-type {\n",
       "        vertical-align: middle;\n",
       "    }\n",
       "\n",
       "    .dataframe tbody tr th {\n",
       "        vertical-align: top;\n",
       "    }\n",
       "\n",
       "    .dataframe thead th {\n",
       "        text-align: right;\n",
       "    }\n",
       "</style>\n",
       "<table border=\"1\" class=\"dataframe\">\n",
       "  <thead>\n",
       "    <tr style=\"text-align: right;\">\n",
       "      <th></th>\n",
       "      <th>ham</th>\n",
       "      <th>spam</th>\n",
       "      <th>token</th>\n",
       "      <th>spam_score</th>\n",
       "    </tr>\n",
       "  </thead>\n",
       "  <tbody>\n",
       "    <tr>\n",
       "      <th>268</th>\n",
       "      <td>1.000000</td>\n",
       "      <td>4.468333</td>\n",
       "      <td>sure yet</td>\n",
       "      <td>4.468333</td>\n",
       "    </tr>\n",
       "    <tr>\n",
       "      <th>267</th>\n",
       "      <td>1.241105</td>\n",
       "      <td>6.937166</td>\n",
       "      <td>sure</td>\n",
       "      <td>5.589509</td>\n",
       "    </tr>\n",
       "    <tr>\n",
       "      <th>196</th>\n",
       "      <td>1.000000</td>\n",
       "      <td>6.906402</td>\n",
       "      <td>not sure</td>\n",
       "      <td>6.906402</td>\n",
       "    </tr>\n",
       "    <tr>\n",
       "      <th>197</th>\n",
       "      <td>2.175842</td>\n",
       "      <td>18.606394</td>\n",
       "      <td>nothing</td>\n",
       "      <td>8.551355</td>\n",
       "    </tr>\n",
       "    <tr>\n",
       "      <th>256</th>\n",
       "      <td>1.000000</td>\n",
       "      <td>39.000000</td>\n",
       "      <td>spam</td>\n",
       "      <td>39.000000</td>\n",
       "    </tr>\n",
       "  </tbody>\n",
       "</table>\n",
       "</div>"
      ],
      "text/plain": [
       "          ham       spam     token  spam_score\n",
       "268  1.000000   4.468333  sure yet    4.468333\n",
       "267  1.241105   6.937166      sure    5.589509\n",
       "196  1.000000   6.906402  not sure    6.906402\n",
       "197  2.175842  18.606394   nothing    8.551355\n",
       "256  1.000000  39.000000      spam   39.000000"
      ]
     },
     "execution_count": 16,
     "metadata": {},
     "output_type": "execute_result"
    }
   ],
   "source": [
    "#5 spammiest words\n",
    "token_counts.sort_values('spam_score').tail()"
   ]
  },
  {
   "cell_type": "markdown",
   "metadata": {},
   "source": [
    "<a id=\"nb\"></a>\n",
    "# A Naive Bayes Model\n",
    "\n",
    "Now that we have a vector representation of the text, we can train a supervised classifier to predict the `Value FLAG` given a `Normalized Value Comments`.\n",
    "\n",
    "To to this, we'll use Mulitnomial Naive Bayes from sklearn.\n",
    "\n",
    "#### Why Multinomial Naive Bayes?\n",
    ">The multinomial naive bayes classifier is suitable for classification with discrete features (e.g., word counts for text classification). Although the multinomial distribution normally requires integer feature counts, in practice, fractional counts such as tf-idf may also work."
   ]
  },
  {
   "cell_type": "code",
   "execution_count": 18,
   "metadata": {},
   "outputs": [
    {
     "name": "stdout",
     "output_type": "stream",
     "text": [
      "Accuracy:  0.8577202910266775\n"
     ]
    }
   ],
   "source": [
    "tfidf = TfidfVectorizer(sublinear_tf=True, \n",
    "                        min_df=5, \n",
    "                        norm='l2', \n",
    "                        encoding='latin-1', \n",
    "                        ngram_range=(1, 2))\n",
    "\n",
    "X = tfidf.fit_transform(comments_df['Normalized Value Comment'])\n",
    "y = comments_df['Value FLAG']\n",
    "clf = MultinomialNB()\n",
    "clf.fit(X, y)\n",
    "y_pred = clf.predict(X)\n",
    "acc = metrics.accuracy_score(y,y_pred)\n",
    "print(\"Accuracy:  {}\".format(acc))"
   ]
  },
  {
   "cell_type": "code",
   "execution_count": 19,
   "metadata": {},
   "outputs": [
    {
     "data": {
      "text/plain": [
       "Text(0.5,69,'Predicted')"
      ]
     },
     "execution_count": 19,
     "metadata": {},
     "output_type": "execute_result"
    },
    {
     "data": {
      "image/png": "[encoded data removed]",
      "text/plain": [
       "<Figure size 720x720 with 2 Axes>"
      ]
     },
     "metadata": {},
     "output_type": "display_data"
    }
   ],
   "source": [
    "# Confusion Matrix\n",
    "cm = metrics.confusion_matrix(y, y_pred)\n",
    "fig, ax = plt.subplots(figsize=(10,10))\n",
    "sns.set_context('poster')\n",
    "sns.heatmap(cm, annot=True, fmt='d',\n",
    "            xticklabels=['ham','spam'], yticklabels=['ham','spam'])\n",
    "plt.ylabel('Actual')\n",
    "plt.xlabel('Predicted')"
   ]
  },
  {
   "cell_type": "code",
   "execution_count": 21,
   "metadata": {},
   "outputs": [
    {
     "name": "stdout",
     "output_type": "stream",
     "text": [
      "             precision    recall  f1-score   support\n",
      "\n",
      "        ham       0.85      0.98      0.91       873\n",
      "       spam       0.91      0.57      0.70       364\n",
      "\n",
      "avg / total       0.87      0.86      0.85      1237\n",
      "\n"
     ]
    }
   ],
   "source": [
    "class_names = ['ham', 'spam']\n",
    "print(metrics.classification_report(y, y_pred, target_names=class_names))"
   ]
  },
  {
   "cell_type": "markdown",
   "metadata": {},
   "source": [
    "### Interpretation\n",
    "The classifier did a pretty good job classifiying the ham, but it did poorly when it came to spam recall. As the confusion matrix shows, this means a lot of actual spam was predicted to be ham. This is likely due to the class imbalance. But it's better than the opposite situation where a lot of ham is classifed as spam.\n",
    "\n",
    "It should also be noted that we trained the model on the entire dataset without using any cross-validation. This means the model is likely [overfit](http://scikit-learn.org/stable/auto_examples/model_selection/plot_underfitting_overfitting.html).\n",
    "\n",
    "To make a better model, we'll get a little more complex..."
   ]
  },
  {
   "cell_type": "markdown",
   "metadata": {},
   "source": [
    "<a id=\"gridsearchcv\"></a>\n",
    "# Grid Search & Cross Validation\n",
    "Below we'll implement a **grid search**, using **cross-validation** as well as **train-test-split**, to identify the best parameters for several different classifiers. \n",
    "\n",
    "To do this, we'll need to creata a data transformation pipeline that:\n",
    " - **Splits the Data by Levels of Measurement**\n",
    "     - Numeric Data\n",
    "          - Comment Length (the `len` of the *unparsed* comment)\n",
    "          - Hour, Month, Day of Year and Weekday (in [circular time](https://stats.stackexchange.com/questions/245866/is-hour-of-day-a-categorical-variable))\n",
    "          - Likert questions (ordinal but converted to numeric)\n",
    "     - Categorical Data\n",
    "          - The page they were on (nominal), although I might drop this since it greatly increases dimensionality and the full set of pages is potentially infinite (which poses problems for one-hote encoding)\n",
    "     - Text Data\n",
    "          - Vectorization of the parsed comments using [word2vec](https://en.wikipedia.org/wiki/Word2vec), [glove](https://nlp.stanford.edu/projects/glove/), and [fasttext](https://github.com/facebookresearch/fastText/blob/master/pretrained-vectors.md) using the [tf-idf](https://en.wikipedia.org/wiki/Tf%E2%80%93idf) values for each individual word as weights when aggregating the word-embeddings at the comment level. We'll also use the usual tf-idf without any word embeddings.\n",
    " - **Horizontally Stacks the Features**\n",
    "     - The tf-idf feature set will need to be converted to a dense array prior to stacking.\n",
    " - **Standardizes the Data**\n",
    "     -  When using tree-based models, we don't need to [standardize](http://scikit-learn.org/stable/modules/preprocessing.html) our values, although doing so wouldn't hurt. But if we want to use linear models, we'll need to first standardize the features. But we need to be careful with our standardization choice since the centering of sparse data destroys the sparseness. We can disable centering by passing  `with_mean=False` to the constructor of `StandardScaler`. Ideally, we'd do this only when using tf-idf to vectorize our comments.\n",
    " - **Upsamples** (optional)\n",
    "     - `ADAYSN` (`ADASYN`, as opposed to `SMOTE`, will focus on the samples which are difficult to classify with a nearest-neighbors rule; this can help with the edge cases (i.e. spam that is very similiar to ham).\n",
    " - **Selects the Best Features** (optional)\n",
    "     - Can use `chi2` in conjunction with `SelectKBest` to select a certain number of features from the data (cannot have negative data values for this to work, however)\n",
    " - **Evaluates Different Hyperparameter Combinations**\n",
    "     - In addition to cross-validation (5 folds), we'll also train-test-split (allowing an option for `stratify_shuffle_split` since we have unbalanaced classes).\n",
    "     - We'll fine-tune the following **tree-based ensemble models**:\n",
    "          - `RandomForestClassifier`\n",
    "          - `ExtraTreesClassifier`\n",
    "          - `AdaBoostClassifier`\n",
    "          - `GradientBoostingClassifier`\n",
    "     - And we'll fine-tune the following **linear models**:\n",
    "          - `SGDClassifier`\n",
    "          - `LogisticRegression`\n",
    "          - `LinearSVC`\n",
    "          - `PassiveAggressiveClassifier`\n",
    "     - We won't use `MultinomialNB` since that model doesn't accept negative inputs.\n",
    "     - If each model performs about the same - or if a few of the models outperform the others - we'll use `VotingClassifier` to see if we can improve the **score**.\n",
    "         - With unbalanced classes, it's usually advisable to use [precision-recall](http://scikit-learn.org/stable/auto_examples/model_selection/plot_precision_recall.html) as our scoring metric. The intuition is that you want to maxmimize the classifier's ability to correctly identify (precision) the most amount of spam (recall). But since the object of this project is to reduce the amount of time humans have to spend sifting through comments, we'll focus on maximizing accuracy, which will most likely minimize the number of classifications we get wrong. The fact that we're including an over-sampling algorithm as well as the option to stratify-shuffle-split further justifies the choice of accuracy as our metric. \n",
    "         \n",
    "The following classes will be used as transformers within an sklearn pipeline (they inheret from BaseEstimator and TransformerMixin so the get_params() method can be called from GridsearchCV):"
   ]
  },
  {
   "cell_type": "code",
   "execution_count": 22,
   "metadata": {},
   "outputs": [],
   "source": [
    "class TfidfEmbeddingVectorizer(BaseEstimator, TransformerMixin):\n",
    "    \"\"\"\n",
    "    Description:\n",
    "        This class is designed for use as a transformer within an sklearn pipeline. The pipeline will call\n",
    "        the fit and transform instance methods. \n",
    "        \n",
    "        The class attributes instantiate the glove, fastext, and word2vec word embedding models. \n",
    "        These models are dictionaries mapping unique words from the entire corpus (i.e. all of the Normalized \n",
    "        Value Comments) to vectors of shape [300,]. The model is chosen with __init__, which allows GridSearchCV\n",
    "        to try each word embedding model (as well as the usual tf-idf).\n",
    "    \n",
    "    \"\"\"    \n",
    "    comments = comments_df['Normalized Value Comment']\n",
    "    \n",
    "    #### Create word2vec Model ####\n",
    "    # let X_vec be a list of tokenized texts (i.e. list of lists of tokens)\n",
    "    X_vec = [word_tokenize(s) for s in comments.tolist()]\n",
    "    # train word2vec on the texts\n",
    "    model = gensim.models.Word2Vec(X_vec, size=300, window=10, min_count=2, workers=4, iter=50)\n",
    "    w2v_embedding = {w: vec for w, vec in zip(model.wv.index2word, model.wv.vectors)}\n",
    "\n",
    "    #### Create Glove Model ####\n",
    "    nlp = spacy.load('en_vectors_web_lg')\n",
    "    unique_words = list(set([word for sublist in [c.split() for c in comments.tolist()] for word in sublist]))\n",
    "    word_glove_vectors = np.array([nlp(word).vector for word in unique_words])\n",
    "    glove_embedding = {w: vec for w, vec in zip(unique_words, word_glove_vectors)}\n",
    "\n",
    "    #### Create Fast Text Model ####\n",
    "    # Set values for various parameters\n",
    "    feature_size = 300    # Word vector dimensionality  \n",
    "    window_context = 50   # Context window size                                                                                    \n",
    "    min_word_count = 3    # Minimum word count                        \n",
    "    sample = 1e-3         # Downsample setting for frequent words\n",
    "\n",
    "    ft_model = gensim.models.fasttext.FastText(X_vec, size=feature_size, window=window_context, \n",
    "                                               min_count=min_word_count,sample=sample, sg=1, iter=50)\n",
    "    ft_embedding = {w: vec for w, vec in zip(ft_model.wv.vocab.keys(), ft_model.wv.vectors)}\n",
    "    \n",
    "    \n",
    "    def __init__(self, w2v=\"w2v\"):\n",
    "        \"\"\"\n",
    "        Description:  \n",
    "            Create an instance of the class with the chosen model.\n",
    "        \n",
    "        Arguments:\n",
    "            w2v:  a str representing the model you'd like to use to vectorize the text. Possible values:\n",
    "                    'w2v': the word2vec model\n",
    "                    'glove': the glove model\n",
    "                    'ft': the fasttext model\n",
    "                    'tf_idf':  TfidfVectorizer()\n",
    "                \n",
    "        \"\"\"\n",
    "        self.w2v = w2v\n",
    "        if w2v == \"w2v\":\n",
    "            self.model = self.w2v_embedding\n",
    "            self.dim = len(next(iter(self.model.values())))\n",
    "        elif w2v == \"glove\":\n",
    "            self.model = self.glove_embedding\n",
    "            self.dim = len(next(iter(self.model.values())))\n",
    "        elif w2v == \"ft\":\n",
    "            self.model = self.ft_embedding\n",
    "            self.dim = len(next(iter(self.model.values())))\n",
    "        else:\n",
    "            self.tf_idf = None\n",
    "        self.word2weight = None\n",
    "\n",
    "\n",
    "    def fit(self, X_train, y=None):\n",
    "        \"\"\"\n",
    "        Description:\n",
    "            When this method is called by the sklearn pipeline, it creates the tf_idf scores for the words.\n",
    "            These will be used by transform as weights when aggregating the vector representations of each\n",
    "            word at the comment level.\n",
    "        \n",
    "        \"\"\"\n",
    "        if self.w2v != \"tf_idf\":\n",
    "            # pass callable to analyzer to extract the sequence of features out of the raw, unprocessed comment.\n",
    "            tfidf = TfidfVectorizer(analyzer=lambda x: x)        \n",
    "            tfidf.fit(X_train)\n",
    "            # if a word was never seen - it must be at least as infrequent\n",
    "            # as any of the known words - so the default idf is the max of \n",
    "            # known idf's\n",
    "            max_idf = max(tfidf.idf_)\n",
    "            self.word2weight = defaultdict(lambda: max_idf,[(w, tfidf.idf_[i]) for w, i in tfidf.vocabulary_.items()])\n",
    "            return self\n",
    "        else:\n",
    "            self.tf_idf = TfidfVectorizer(min_df=3,\n",
    "                                         max_features=None, \n",
    "                                         analyzer='word',\n",
    "                                         ngram_range=(1,2),\n",
    "                                         use_idf=1,\n",
    "                                         smooth_idf=1,\n",
    "                                         sublinear_tf=1)\n",
    "            self.tf_idf.fit(X_train)\n",
    "            return self\n",
    "\n",
    "\n",
    "    def transform(self, X_train):        \n",
    "        if self.w2v != \"tf_idf\":\n",
    "            comments  = [[word for word in comment.split(\" \")] for comment in X_train]\n",
    "            embeddings =  np.array([np.mean([self.model[w] * self.word2weight[w]\n",
    "                                             for w in words if w in self.model] or\n",
    "                            [np.zeros(self.dim)], axis=0) for words in comments]).astype('float')\n",
    "            return embeddings \n",
    "        else:\n",
    "            return self.tf_idf.transform(X_train).toarray()"
   ]
  },
  {
   "cell_type": "code",
   "execution_count": 32,
   "metadata": {},
   "outputs": [],
   "source": [
    "class ColumnExtractor(BaseEstimator, TransformerMixin):\n",
    "    \"\"\"\n",
    "    Description:\n",
    "        This class is designed for use as a transformer within an sklearn pipeline. The pipeline will call\n",
    "        the fit and transform instance methods.\n",
    "        \n",
    "        The transform method will simply select the columns provided to __init__.\n",
    "    \"\"\"\n",
    "    \n",
    "    \n",
    "    def __init__(self, cols, dtype = 'float'):\n",
    "        self.dtype = dtype\n",
    "        self.cols = cols    \n",
    "    \n",
    "    \n",
    "    def transform(self, X_train):\n",
    "        col_list = []\n",
    "        for c in self.cols:\n",
    "            if self.dtype == 'float':\n",
    "                col_list.append(X_train[c].values)\n",
    "            elif self.dtype == 'str':\n",
    "                col_list.append(X_train[c].astype(str))\n",
    "            elif self.dtype == 'datetime':\n",
    "                col_list.append(pd.to_datetime(X_train[c]))\n",
    "\n",
    "        if len(col_list) == 1:\n",
    "            return col_list[0]\n",
    "        else:\n",
    "            return pd.concat(col_list,axis=1)\n",
    "\n",
    "        \n",
    "    def fit(self, X_train, y=None):\n",
    "        return self"
   ]
  },
  {
   "cell_type": "code",
   "execution_count": 24,
   "metadata": {},
   "outputs": [],
   "source": [
    "class OrdinalTransformer(BaseEstimator, TransformerMixin):\n",
    "    \"\"\"\n",
    "    Description:\n",
    "        This class is designed for use as a transformer within an sklearn pipeline. The pipeline will call\n",
    "        the fit and transform instance methods.\n",
    "        \n",
    "        The transform method map the likert respones to numerics.\n",
    "    \"\"\"\n",
    "    \n",
    "    \n",
    "    \n",
    "    def __init__(self, cols):\n",
    "        self.cols = cols\n",
    "        \n",
    "        \n",
    "    def transform(self, X_train, y=None):\n",
    "        if len(self.cols)>1:\n",
    "            ordinal_data = []\n",
    "            for col in self.cols:\n",
    "                if \"return\" in col:\n",
    "                    ret= X_train[col].map({'Very unlikely':1, \n",
    "                                           'Unlikely':2,\n",
    "                                           'Neither likely nor unlikely':3,\n",
    "                                           'Likely':4,\n",
    "                                           'Very likely':5})\n",
    "                    ordinal_data.append(ret)\n",
    "                elif \"recommend\" in col:\n",
    "                    rec = X_train[col].map({'Very unlikely':1,\n",
    "                                            'Unlikely':2,\n",
    "                                            'Neither likely nor unlikely':3,\n",
    "                                            'Likely':4,\n",
    "                                            'Very likely':5})\n",
    "                    ordinal_data.append(rec)\n",
    "                elif \"accomplish\" in col:\n",
    "                    acc = X_train[col].map({'No':1,\n",
    "                                            'Not yet, but still trying':2,\n",
    "                                            'Just browsing / not trying to accomplish anything specific':3,\n",
    "                                            'Yes, partly':4,\n",
    "                                            'Yes, fully':5})\n",
    "                    ordinal_data.append(acc)\n",
    "                else:\n",
    "                    exp = X_train[col].map({'Very poor':1,\n",
    "                                            'Poor':2,\n",
    "                                            'Fair':3,\n",
    "                                            'Good':4,\n",
    "                                            'Very good':5})\n",
    "                    ordinal_data.append(exp)\n",
    "            \n",
    "            return pd.concat(ordinal_data,axis=1).values\n",
    "        else:\n",
    "            pass\n",
    "    \n",
    "    \n",
    "    def fit(self, X_train, y=None):\n",
    "        return self              \n",
    "                    \n",
    "            "
   ]
  },
  {
   "cell_type": "code",
   "execution_count": 25,
   "metadata": {},
   "outputs": [],
   "source": [
    "class NominalEncoder(BaseEstimator, TransformerMixin):\n",
    "    \"\"\"\n",
    "    Description:\n",
    "        This class is designed for use as a transformer within an sklearn pipeline. The pipeline will call\n",
    "        the fit and transform instance methods.\n",
    "        \n",
    "        The transform method will use LabelEncoder() from sklearn to encode a nominal variable.\n",
    "    \"\"\"\n",
    "    def __init__(self, cols):\n",
    "        self.cols = cols\n",
    "    \n",
    "    \n",
    "    def transform(self, X_train, y=None):\n",
    "        \n",
    "        if len(self.cols)>1:\n",
    "            encoded_series = []\n",
    "            for col in self.cols:\n",
    "                encoder = LabelEncoder()\n",
    "                encoder.fit(X_train[col])\n",
    "                encoded_series.append(pd.Series(encoder.transform(X_train[col])))\n",
    "            return pd.concat(encoded_series, axis=1).values\n",
    "        else:\n",
    "            encoder = LabelEncoder()\n",
    "            encoder.fit(X_train)\n",
    "            return encoder.transform(X_train).reshape(-1, 1)\n",
    "\n",
    "        \n",
    "    def fit(self, X_train, y=None):\n",
    "        return self"
   ]
  },
  {
   "cell_type": "code",
   "execution_count": 26,
   "metadata": {},
   "outputs": [],
   "source": [
    "class CharLengthExtractor(BaseEstimator, TransformerMixin):\n",
    "    \"\"\"\n",
    "    Description:\n",
    "        This class is designed for use as a transformer within an sklearn pipeline. The pipeline will call\n",
    "        the fit and transform instance methods.\n",
    "        \n",
    "        The transform method returns the character lengths of of each comment.\n",
    "    \n",
    "    \"\"\"\n",
    "\n",
    "    def __init__(self):\n",
    "        pass\n",
    "    def transform(self, X_train, y=None):\n",
    "        #the reshape ensures that the 1D array becomes 2D\"\"\"\n",
    "        return X_train.apply(lambda x: len(x)).values.reshape(-1,1).astype('float')\n",
    "\n",
    "    \n",
    "    def fit(self, X_train, y=None):\n",
    "        return self"
   ]
  },
  {
   "cell_type": "code",
   "execution_count": 27,
   "metadata": {},
   "outputs": [],
   "source": [
    "class DateTransformer(BaseEstimator, TransformerMixin):\n",
    "    \"\"\"\n",
    "    Description:\n",
    "        This class is designed for use as a transformer within an sklearn pipeline. The pipeline will call\n",
    "        the fit and transform instance methods.\n",
    "        \n",
    "        The transform method returns the datetime of each comment as ordinal cyclic variables, with each\n",
    "        datetime component, e.g. the hour of the day, represnted by a trigonometric (x,y) pair of coordinates \n",
    "        from a unit cirle.\n",
    "    \"\"\"\n",
    "    \n",
    "    def __init__(self):\n",
    "        pass\n",
    "    \n",
    "    @staticmethod\n",
    "    def angular_day_of_year(unit):\n",
    "        xday = math.sin(2*math.pi*unit/365)\n",
    "        yday = math.cos(2*math.pi*unit/365)\n",
    "        return xday, yday\n",
    "    \n",
    "    @staticmethod\n",
    "    def angular_hour(unit):\n",
    "        t = str(unit)\n",
    "        (h, m, s) = t.split(':')\n",
    "        result = int(h) + int(m) / 60\n",
    "        xhr = math.sin(2*math.pi*result/24)\n",
    "        yhr = math.cos(2*math.pi*result/24)\n",
    "        return xhr, yhr\n",
    "    \n",
    "    @staticmethod\n",
    "    def angular_month(unit):\n",
    "        xmonth = math.sin(2*math.pi*unit/12)\n",
    "        ymonth = math.cos(2*math.pi*unit/12)\n",
    "        return xmonth, ymonth\n",
    "    \n",
    "    @staticmethod\n",
    "    def angular_weekday(unit):\n",
    "        xweekday = math.sin(2*math.pi*unit/7)\n",
    "        yweekday = math.cos(2*math.pi*unit/7)\n",
    "        return xweekday, yweekday\n",
    "   \n",
    "    def transform(self, X_train, y=None):\n",
    "        hours = X_train.dt.time.apply(self.angular_hour).apply(pd.Series)\n",
    "        hours.columns = ['xhr','yhr']\n",
    "        weekdays = X_train.dt.weekday.apply(self.angular_weekday).apply(pd.Series)\n",
    "        weekdays.columns = ['xweekday','yweekday']\n",
    "        month = X_train.dt.month.apply(self.angular_month).apply(pd.Series)\n",
    "        month.columns = ['xmonth','ymonth']\n",
    "        day_of_year = X_train.dt.dayofyear.apply(self.angular_day_of_year).apply(pd.Series)\n",
    "        day_of_year.columns = ['xday','yday']\n",
    "        time_features = pd.concat([hours,month,weekdays,day_of_year],axis=1).values\n",
    "        return time_features\n",
    "     \n",
    "    def fit(self, X_train, y=None):\n",
    "        return self\n",
    "        "
   ]
  },
  {
   "cell_type": "code",
   "execution_count": 48,
   "metadata": {},
   "outputs": [],
   "source": [
    "#create list of ordinal and nominal cols for model\n",
    "ordinal_cols = [\"Based on today's visit, how would you rate your experience on the website overall? (Required question)\",\n",
    "               \"How likely are you to return to USA.gov? (Required question)\",\n",
    "               \"How likely are you to recommend this website to someone else? (Required question)\"]"
   ]
  },
  {
   "cell_type": "code",
   "execution_count": 49,
   "metadata": {},
   "outputs": [],
   "source": [
    "def grid_search(data=comments_df,\n",
    "                     normalized_comment_col=\"Normalized Value Comment\",\n",
    "                     comment_col=\"Value Comment\",\n",
    "                     ordinal_cols = ordinal_cols,\n",
    "                     label_col = \"Value FLAG\",\n",
    "                     date_col = \"Date\",\n",
    "                     stratify_shuffle_split = False,\n",
    "                     scoring_metric = 'accuracy'):\n",
    "    \"\"\"\n",
    "        Description:\n",
    "            Given the survey dataset where a comment column has already been normalized, split the data into\n",
    "            training and test subsets; apply custom transformers for feature extraction; and gridsearch\n",
    "            the following tree-based and linear models:  RandomForestClassifier(), ExtraTreesClassifier(),\n",
    "            AdaBoostClassifier(), GradientBoostingClassifier(), SGDClassifier(), LogisticRegression(),\n",
    "            LinearSVC(), and PassiveAggressiveClassifier().\n",
    "            \n",
    "        Parameters:\n",
    "            data:  the pandas dataframe containing the survey responses as well as two new columns containing\n",
    "                   binary encoding of spam vs ham and the normalized comment.\n",
    "            normalized_comment_col:  the str name of the normalized comment column in data.\n",
    "            comment_col:  the str name of the comment column in data.\n",
    "            label_col:  the str name of the column containing the class labels.\n",
    "            date_col:  the str name of the datetime column in data.\n",
    "            stratify_shuffle_split:  Boolean to implement stratified shuffle splitting instead of a random \n",
    "                                     train-test-split.\n",
    "            scoring_metric:  The scoring metric to be used when refitting the models. 'accuracy' by default, \n",
    "                             but can also be set to 'roc_auc'.\n",
    "            \n",
    "        \n",
    "    \"\"\"\n",
    "    \n",
    "    X = data.drop(label_col, axis =1)\n",
    "    y = data[label_col]\n",
    "    \n",
    "    if stratify_shuffle_split:\n",
    "        #Stratified Shuffle Split ensures sample balance\n",
    "        sss = StratifiedShuffleSplit(n_splits = 2, \n",
    "                                     test_size = .1, \n",
    "                                     random_state=123)\n",
    "        print(\"Creating {} splits of the data using Stratified Shuffle Split\".format(sss.get_n_splits(X, y)))\n",
    "        train_indices, test_indices = next(sss.split(X, y))\n",
    "        for train_index, test_index in sss.split(X, y):\n",
    "            X_train, X_test = X.iloc[train_index], X.iloc[test_index]\n",
    "            y_train, y_test = y.iloc[train_index], y.iloc[test_index]\n",
    "        print(\"Training samples:  {}\\nTest samples:  {}\".format(X_train.shape[0],X_test.shape[0]))\n",
    "    else:\n",
    "        X_train, X_test, y_train, y_test = train_test_split(X, y, test_size=0.1, random_state=123)\n",
    "        \n",
    "\n",
    "    classifiers = [RandomForestClassifier(),\n",
    "                  ExtraTreesClassifier(),\n",
    "                  AdaBoostClassifier(),\n",
    "                  GradientBoostingClassifier(),\n",
    "                  SGDClassifier(),\n",
    "                  LogisticRegression(),\n",
    "                  LinearSVC(),\n",
    "                  PassiveAggressiveClassifier()]\n",
    "\n",
    "    scoring = {'accuracy': metrics.make_scorer(metrics.accuracy_score),\n",
    "               'roc_auc': metrics.make_scorer(metrics.roc_auc_score)}\n",
    "    \n",
    "    \n",
    "    results = {k:[] for k in [clf.__class__.__name__ for clf in classifiers]}\n",
    "    for clf in classifiers:\n",
    "        print('=' * 80)\n",
    "        clf_name = clf.__class__.__name__\n",
    "        print(\"Training {}...\".format(clf_name))\n",
    "        print('=' * 80)\n",
    "        \n",
    "        pipe = Pipeline([\n",
    "                         ('features', FeatureUnion([\n",
    "                                     ('word2vec', Pipeline([\n",
    "                                                       ('extractor', ColumnExtractor(cols=[normalized_comment_col],\n",
    "                                                                                  dtype='str')),\n",
    "                                                       ('vectorizer', TfidfEmbeddingVectorizer())\n",
    "                                     ])),\n",
    "                                     ('comment_length', Pipeline([\n",
    "                                                       ('extractor',ColumnExtractor(cols=[comment_col],\n",
    "                                                                                    dtype='str')),\n",
    "                                                       ('num_chars', CharLengthExtractor())\n",
    "                                     ])),\n",
    "                                     ('ordinal', Pipeline([\n",
    "                                                        ('extract', ColumnExtractor(cols = ordinal_cols,\n",
    "                                                                                    dtype='str')),\n",
    "                                                        ('ordinal_enc', OrdinalTransformer(cols = ordinal_cols))\n",
    "                                     ])),\n",
    "                                     ('datetime', Pipeline([\n",
    "                                                       ('extract', ColumnExtractor(cols = [date_col],\n",
    "                                                                                   dtype='datetime')),\n",
    "                                                       ('date_transform', DateTransformer())\n",
    "                                     ])),\n",
    "                         ])),\n",
    "                        ('scaler', StandardScaler(with_mean=False)),\n",
    "                        ('upsample', SMOTE()),\n",
    "                        ('select', SelectPercentile(f_classif)),\n",
    "                        ('clf', clf)])\n",
    "          \n",
    "        \n",
    "        if 'Random' in clf_name:\n",
    "            param_grid = [\n",
    "                            {'clf__max_depth': [None], \n",
    "                             'clf__max_features': ['sqrt'], \n",
    "                             'clf__min_samples_leaf': [1], \n",
    "                             'clf__min_samples_split': [2], \n",
    "                             'clf__n_estimators': [300], \n",
    "                             'features__word2vec__vectorizer__w2v': ['tf_idf'], \n",
    "                             'select': [None], \n",
    "                             'upsample': [None]}\n",
    "                        ]\n",
    "        \n",
    "        elif \"Extra\" in clf_name:\n",
    "            param_grid = [\n",
    "                            {'clf__max_depth': [15],\n",
    "                             'clf__max_features': ['sqrt'],\n",
    "                             'clf__min_samples_leaf': [2],\n",
    "                             'clf__min_samples_split': [2],\n",
    "                             'clf__n_estimators': [500],\n",
    "                             'features__word2vec__vectorizer__w2v': ['ft'],\n",
    "                             'select': [SelectPercentile(percentile=50)], \n",
    "                             'upsample': [None]}\n",
    "                        ]\n",
    "            \n",
    "        \n",
    "        elif 'Gradient' in clf_name:\n",
    "            param_grid = [\n",
    "                            {\n",
    "                              'features__word2vec__vectorizer__w2v':['ft'],\n",
    "                              'upsample':[None],\n",
    "                              'select': [SelectPercentile(f_classif, percentile=50)],\n",
    "                              'clf__n_estimators':[300],\n",
    "                              'clf__learning_rate':[.1],\n",
    "                              'clf__max_depth':[5],\n",
    "                              'clf__min_samples_leaf':[5],\n",
    "                              'clf__min_samples_split':[2],\n",
    "                              'clf__max_features':['sqrt'],\n",
    "                            }\n",
    "                        ]\n",
    "        \n",
    "        elif \"AdaBoost\" in clf_name:\n",
    "            param_grid = [\n",
    "                \n",
    "                            {\n",
    "                              'features__word2vec__vectorizer__w2v':['w2v'],\n",
    "                              'upsample':[None],\n",
    "                              'select': [None],\n",
    "                              'clf__n_estimators':[800],\n",
    "                              'clf__learning_rate':[.1]\n",
    "                            }\n",
    "                        ]\n",
    "            \n",
    "        elif \"Linear\" in clf_name:\n",
    "            param_grid = [\n",
    "                            {\n",
    "                              'features__word2vec__vectorizer__w2v':['w2v'],\n",
    "                              'upsample':[None],\n",
    "                              'select': [None],\n",
    "                              'clf__C':[.01],\n",
    "                              'clf__class_weight':[None]\n",
    "                            }\n",
    "                        ]\n",
    "        \n",
    "        elif \"Logistic\" in clf_name:\n",
    "            param_grid = [\n",
    "                            {\n",
    "                              'features__word2vec__vectorizer__w2v':['w2v'],\n",
    "                              'upsample':[None],\n",
    "                              'select': [None],\n",
    "                              'clf__penalty':['l2'],\n",
    "                              'clf__C':[10]\n",
    "                            }\n",
    "                        ]\n",
    "        elif \"SGD\" in clf_name:\n",
    "            param_grid = [\n",
    "                            {\n",
    "                              'features__word2vec__vectorizer__w2v':['w2v'],\n",
    "                              'upsample':[SMOTE(kind='svm',random_state=123)],\n",
    "                              'select': [SelectPercentile(f_classif, percentile=50)],\n",
    "                              'clf__penalty':['l2'],\n",
    "                              'clf__alpha':[1.0]\n",
    "                            }\n",
    "                        ]\n",
    "\n",
    "            \n",
    "        elif \"Passive\" in clf_name:\n",
    "            param_grid = [\n",
    "                            {\n",
    "                              'features__word2vec__vectorizer__w2v':['tf_idf'],\n",
    "                              'upsample':[None],\n",
    "                              'select': [None],\n",
    "                              'clf__loss':['hinge'],\n",
    "                              'clf__class_weight': [None]\n",
    "                            }\n",
    "                        ]\n",
    "            \n",
    "            \n",
    "        gs = GridSearchCV(pipe, param_grid = param_grid, scoring = scoring, refit = scoring_metric,\n",
    "                          n_jobs = -1, verbose = True, cv = 5, return_train_score = False)\n",
    "        \n",
    "        gs.fit(X_train, y_train)\n",
    "        best_score = gs.best_score_\n",
    "        best_params = gs.best_params_\n",
    "        y_pred = gs.predict(X_test)\n",
    "        acc = metrics.accuracy_score(y_test,y_pred)\n",
    "        roc_auc = metrics.roc_auc_score(y_test, y_pred)\n",
    "        precision, recall, _ = metrics.precision_recall_curve(y_test, y_pred)\n",
    "        auc = metrics.auc(precision, recall)\n",
    "        average_precision = metrics.average_precision_score(y_test, y_pred)\n",
    "        fbeta = metrics.fbeta_score(y_test,y_pred,beta=1.5)\n",
    "        results[clf_name].append((precision, recall, average_precision, best_params, best_score))\n",
    "        print(\"\\tBest score on training data:  {0:.2f}\".format(best_score))\n",
    "        print(\"\\tAccuracy on test data:  {0:.2f}\".format(acc))\n",
    "        print(\"\\tFbeta on test data:  {0:.2f}\".format(fbeta))\n",
    "        print(\"\\tPrecision-Recall AUC on test data:  {0:.2f}\".format(auc))\n",
    "        print(\"\\tROC-AUC on test data:  {0:.2f}\".format(roc_auc))\n",
    "        print('-' * 80)\n",
    "    \n",
    "    return results"
   ]
  },
  {
   "cell_type": "code",
   "execution_count": 50,
   "metadata": {
    "scrolled": false
   },
   "outputs": [
    {
     "name": "stdout",
     "output_type": "stream",
     "text": [
      "================================================================================\n",
      "Training RandomForestClassifier...\n",
      "================================================================================\n",
      "Fitting 5 folds for each of 1 candidates, totalling 5 fits\n"
     ]
    },
    {
     "name": "stderr",
     "output_type": "stream",
     "text": [
      "[Parallel(n_jobs=-1)]: Done   5 out of   5 | elapsed:    8.2s finished\n"
     ]
    },
    {
     "name": "stdout",
     "output_type": "stream",
     "text": [
      "\tBest score on training data:  0.76\n",
      "\tAccuracy on test data:  0.85\n",
      "\tFbeta on test data:  0.71\n",
      "\tPrecision-Recall AUC on test data:  0.49\n",
      "\tROC-AUC on test data:  0.80\n",
      "--------------------------------------------------------------------------------\n",
      "================================================================================\n",
      "Training ExtraTreesClassifier...\n",
      "================================================================================\n",
      "Fitting 5 folds for each of 1 candidates, totalling 5 fits\n"
     ]
    },
    {
     "name": "stderr",
     "output_type": "stream",
     "text": [
      "[Parallel(n_jobs=-1)]: Done   5 out of   5 | elapsed:    7.0s finished\n"
     ]
    },
    {
     "name": "stdout",
     "output_type": "stream",
     "text": [
      "\tBest score on training data:  0.77\n",
      "\tAccuracy on test data:  0.88\n",
      "\tFbeta on test data:  0.75\n",
      "\tPrecision-Recall AUC on test data:  0.53\n",
      "\tROC-AUC on test data:  0.83\n",
      "--------------------------------------------------------------------------------\n",
      "================================================================================\n",
      "Training AdaBoostClassifier...\n",
      "================================================================================\n",
      "Fitting 5 folds for each of 1 candidates, totalling 5 fits\n"
     ]
    },
    {
     "name": "stderr",
     "output_type": "stream",
     "text": [
      "[Parallel(n_jobs=-1)]: Done   5 out of   5 | elapsed:  1.0min finished\n"
     ]
    },
    {
     "name": "stdout",
     "output_type": "stream",
     "text": [
      "\tBest score on training data:  0.78\n",
      "\tAccuracy on test data:  0.85\n",
      "\tFbeta on test data:  0.76\n",
      "\tPrecision-Recall AUC on test data:  0.49\n",
      "\tROC-AUC on test data:  0.82\n",
      "--------------------------------------------------------------------------------\n",
      "================================================================================\n",
      "Training GradientBoostingClassifier...\n",
      "================================================================================\n",
      "Fitting 5 folds for each of 1 candidates, totalling 5 fits\n"
     ]
    },
    {
     "name": "stderr",
     "output_type": "stream",
     "text": [
      "[Parallel(n_jobs=-1)]: Done   5 out of   5 | elapsed:    5.8s finished\n"
     ]
    },
    {
     "name": "stdout",
     "output_type": "stream",
     "text": [
      "\tBest score on training data:  0.79\n",
      "\tAccuracy on test data:  0.87\n",
      "\tFbeta on test data:  0.77\n",
      "\tPrecision-Recall AUC on test data:  0.51\n",
      "\tROC-AUC on test data:  0.84\n",
      "--------------------------------------------------------------------------------\n",
      "================================================================================\n",
      "Training SGDClassifier...\n",
      "================================================================================\n",
      "Fitting 5 folds for each of 1 candidates, totalling 5 fits\n"
     ]
    },
    {
     "name": "stderr",
     "output_type": "stream",
     "text": [
      "[Parallel(n_jobs=-1)]: Done   5 out of   5 | elapsed:    3.8s finished\n"
     ]
    },
    {
     "name": "stdout",
     "output_type": "stream",
     "text": [
      "\tBest score on training data:  0.77\n",
      "\tAccuracy on test data:  0.65\n",
      "\tFbeta on test data:  0.71\n",
      "\tPrecision-Recall AUC on test data:  0.39\n",
      "\tROC-AUC on test data:  0.72\n",
      "--------------------------------------------------------------------------------\n",
      "================================================================================\n",
      "Training LogisticRegression...\n",
      "================================================================================\n",
      "Fitting 5 folds for each of 1 candidates, totalling 5 fits\n"
     ]
    },
    {
     "name": "stderr",
     "output_type": "stream",
     "text": [
      "[Parallel(n_jobs=-1)]: Done   5 out of   5 | elapsed:    3.9s finished\n"
     ]
    },
    {
     "name": "stdout",
     "output_type": "stream",
     "text": [
      "\tBest score on training data:  0.80\n",
      "\tAccuracy on test data:  0.88\n",
      "\tFbeta on test data:  0.79\n",
      "\tPrecision-Recall AUC on test data:  0.52\n",
      "\tROC-AUC on test data:  0.85\n",
      "--------------------------------------------------------------------------------\n",
      "================================================================================\n",
      "Training LinearSVC...\n",
      "================================================================================\n",
      "Fitting 5 folds for each of 1 candidates, totalling 5 fits\n"
     ]
    },
    {
     "name": "stderr",
     "output_type": "stream",
     "text": [
      "[Parallel(n_jobs=-1)]: Done   5 out of   5 | elapsed:    4.3s finished\n"
     ]
    },
    {
     "name": "stdout",
     "output_type": "stream",
     "text": [
      "\tBest score on training data:  0.75\n",
      "\tAccuracy on test data:  0.89\n",
      "\tFbeta on test data:  0.74\n",
      "\tPrecision-Recall AUC on test data:  0.55\n",
      "\tROC-AUC on test data:  0.83\n",
      "--------------------------------------------------------------------------------\n",
      "================================================================================\n",
      "Training PassiveAggressiveClassifier...\n",
      "================================================================================\n",
      "Fitting 5 folds for each of 1 candidates, totalling 5 fits\n"
     ]
    },
    {
     "name": "stderr",
     "output_type": "stream",
     "text": [
      "[Parallel(n_jobs=-1)]: Done   5 out of   5 | elapsed:    2.9s finished\n"
     ]
    },
    {
     "name": "stdout",
     "output_type": "stream",
     "text": [
      "\tBest score on training data:  0.77\n",
      "\tAccuracy on test data:  0.81\n",
      "\tFbeta on test data:  0.61\n",
      "\tPrecision-Recall AUC on test data:  0.42\n",
      "\tROC-AUC on test data:  0.74\n",
      "--------------------------------------------------------------------------------\n"
     ]
    }
   ],
   "source": [
    "warnings.filterwarnings('ignore')\n",
    "res = grid_search(scoring_metric='roc_auc')"
   ]
  },
  {
   "cell_type": "markdown",
   "metadata": {},
   "source": [
    "## Interpretation\n",
    "\n",
    "Although we're re-fitting the models based upon accuracy scores, it's important to inspect precision-recall since we're working with unbalanced classes.\n",
    "\n",
    "### Precision-Recall Curve\n",
    "A **precision-recall curve (PRC)** shows the relationship between **precision** and **recall** for every possible cut-off. \n",
    "\n",
    " - **Precision**:  the number of true positives ($T_p$) over the number of true positives plus the number of false positives ($F_p$).\n",
    "\n",
    " - **Recall**: the number of true positives ($T_p$) over the number of true positives plus the number of false negatives ($F_n$).\n",
    "\n",
    "Basically, precision-recall is about maximizing our ability to find ham, while minimizing the spam that is inadvertently retrieved.\n",
    "\n",
    "The PRC is a graphed with: \n",
    "\n",
    " - The x-axis showing recall \n",
    " - The y-axis showing precision\n",
    " \n",
    "Thus every point on the PRC represents the trade-off between precision and recall. Ideally, the whole graph is shaded in. "
   ]
  },
  {
   "cell_type": "code",
   "execution_count": 51,
   "metadata": {
    "scrolled": false
   },
   "outputs": [
    {
     "data": {
      "image/png": "[encoded data removed]",
      "text/plain": [
       "<Figure size 576x432 with 1 Axes>"
      ]
     },
     "metadata": {},
     "output_type": "display_data"
    },
    {
     "data": {
      "image/png": "[encoded data removed]",
      "text/plain": [
       "<Figure size 576x432 with 1 Axes>"
      ]
     },
     "metadata": {},
     "output_type": "display_data"
    },
    {
     "data": {
      "image/png": "[encoded data removed]",
      "text/plain": [
       "<Figure size 576x432 with 1 Axes>"
      ]
     },
     "metadata": {},
     "output_type": "display_data"
    },
    {
     "data": {
      "image/png": "[encoded data removed]",
      "text/plain": [
       "<Figure size 576x432 with 1 Axes>"
      ]
     },
     "metadata": {},
     "output_type": "display_data"
    },
    {
     "data": {
      "image/png": "[encoded data removed]",
      "text/plain": [
       "<Figure size 576x432 with 1 Axes>"
      ]
     },
     "metadata": {},
     "output_type": "display_data"
    },
    {
     "data": {
      "image/png": "[encoded data removed]",
      "text/plain": [
       "<Figure size 576x432 with 1 Axes>"
      ]
     },
     "metadata": {},
     "output_type": "display_data"
    },
    {
     "data": {
      "image/png": "[encoded data removed]",
      "text/plain": [
       "<Figure size 576x432 with 1 Axes>"
      ]
     },
     "metadata": {},
     "output_type": "display_data"
    },
    {
     "data": {
      "image/png": "[encoded data removed]",
      "text/plain": [
       "<Figure size 576x432 with 1 Axes>"
      ]
     },
     "metadata": {},
     "output_type": "display_data"
    }
   ],
   "source": [
    "for k in res:\n",
    "    precision, recall, average_precision, _, _ = res[k][0]\n",
    "    plt.figure(figsize=(8,6))\n",
    "    plt.step(recall, precision, color='b', alpha=0.2,\n",
    "         where='post')\n",
    "    plt.fill_between(recall, precision, step='post', alpha=0.2,\n",
    "                     color='b')\n",
    "\n",
    "    plt.xlabel('Recall')\n",
    "    plt.ylabel('Precision')\n",
    "    plt.ylim([0.0, 1.05])\n",
    "    plt.xlim([0.0, 1.0])\n",
    "    plt.title('{} --- 2-class Precision-Recall curve'.format(k))\n",
    "    "
   ]
  },
  {
   "cell_type": "markdown",
   "metadata": {},
   "source": [
    "<a id=\"voting\"></a>\n",
    "# Voting Classifier\n",
    "Below, we'll predict the class label based on the [argmax](https://en.wikipedia.org/wiki/Arg_max) of the sums of the predicted probabilities returned by the four tree-based ensemble models.\n",
    "\n",
    "> Ideally, this voting classifer will receive the the param_grids from the top 4 models identified in the exhaust grid search above."
   ]
  },
  {
   "cell_type": "code",
   "execution_count": 75,
   "metadata": {},
   "outputs": [],
   "source": [
    "def voting_classifier(data=comments_df,\n",
    "                      parsed_text_col=\"Normalized Value Comment\",\n",
    "                      text_col=\"Value Comment\",\n",
    "                      label_col = \"Value FLAG\",\n",
    "                      date_col = \"Date\",\n",
    "                      ordinal_cols = ordinal_cols,\n",
    "                      stratify_shuffle_split = False,\n",
    "                      pickle_best_estimator = False):\n",
    "    \n",
    "    \"\"\"\n",
    "        TODO: docstring\n",
    "    \"\"\"\n",
    "    \n",
    "    X = data.drop(label_col,axis =1)\n",
    "    y = data[label_col]\n",
    "    \n",
    "    if stratify_shuffle_split:\n",
    "        #Stratified Shuffle Split to ensure sample balance\n",
    "        sss = StratifiedShuffleSplit(n_splits = 2, test_size = .1, random_state=123)\n",
    "        print(\"Creating {} splits of the data using Stratified Shuffle Split\".format(sss.get_n_splits(X, y)))\n",
    "        train_indices, test_indices = next(sss.split(X, y))\n",
    "        for train_index, test_index in sss.split(X, y):\n",
    "            X_train, X_test = X.iloc[train_index], X.iloc[test_index]\n",
    "            y_train, y_test = y.iloc[train_index], y.iloc[test_index]\n",
    "        print(\"Training samples:  {}\\nTest samples:  {}\".format(X_train.shape[0],X_test.shape[0]))\n",
    "    else:\n",
    "        X_train, X_test, y_train, y_test = train_test_split(X, y, test_size=0.1, random_state=123)\n",
    "        \n",
    "\n",
    "    clf1 = GradientBoostingClassifier(learning_rate=.1)\n",
    "    clf2 = AdaBoostClassifier()\n",
    "    clf3 = ExtraTreesClassifier()\n",
    "    clf4 = RandomForestClassifier()\n",
    "\n",
    "    eclf = VotingClassifier(estimators=[('gbc', clf1), \n",
    "                                        ('ada', clf2), \n",
    "                                        ('etc', clf3), \n",
    "                                        ('rfc', clf4)], voting='soft')\n",
    "\n",
    "    params = {\n",
    "              'features__word2vec__vectorizer__w2v':['ft','w2v','globe','tf_idf'],\n",
    "              'clf__gbc__n_estimators': [100,300],\n",
    "              'clf__gbc__max_depth': [4],\n",
    "              'clf__gbc__min_samples_split': [10],\n",
    "              'clf__gbc__learning_rate': [.1],\n",
    "              'clf__gbc__max_features': ['sqrt'],\n",
    "              'clf__ada__n_estimators': [100,300],\n",
    "              'clf__ada__learning_rate': [.1],\n",
    "              'clf__etc__n_estimators': [100,500],\n",
    "              'clf__etc__max_depth': [4],\n",
    "              'clf__etc__min_samples_split': [10],\n",
    "              'clf__etc__max_features': ['sqrt'],\n",
    "              'clf__rfc__n_estimators': [300],\n",
    "              'clf__rfc__max_depth': [4],\n",
    "              'clf__rfc__min_samples_leaf':[1],\n",
    "              'clf__rfc__min_samples_split': [2],\n",
    "              'clf__rfc__max_features': ['sqrt'],\n",
    "              'upsample':[SMOTE(kind='svm'),None],\n",
    "              'select': [SelectPercentile(f_classif, percentile=50),\n",
    "                        SelectPercentile(f_classif, percentile=80),\n",
    "                        None],\n",
    "    }\n",
    "            \n",
    "    \n",
    "    scoring = {'accuracy': metrics.make_scorer(metrics.accuracy_score)}\n",
    "\n",
    "    pipe = Pipeline([\n",
    "                     ('features', FeatureUnion([\n",
    "                                 ('word2vec', Pipeline([\n",
    "                                                 ('extractor',ColumnExtractor(cols=[parsed_text_col],\n",
    "                                                                              dtype='str')),\n",
    "                                                 ('vectorizer', TfidfEmbeddingVectorizer())\n",
    "                                 ])),\n",
    "                                 ('comment_length', Pipeline([\n",
    "                                                   ('extractor',ColumnExtractor(cols=[text_col],\n",
    "                                                                                dtype='str')),\n",
    "                                                   ('num_chars', CharLengthExtractor())\n",
    "                                 ])),\n",
    "                                 ('ordinal', Pipeline([\n",
    "                                                    ('extract', ColumnExtractor(cols = ordinal_cols,\n",
    "                                                                                dtype='str')),\n",
    "                                                    ('ordinal_enc', OrdinalTransformer(cols = ordinal_cols))\n",
    "                                 ])),\n",
    "                                 ('datetime', Pipeline([\n",
    "                                                   ('extract', ColumnExtractor(cols = [date_col],\n",
    "                                                                               dtype='datetime')),\n",
    "                                                   ('date_transform', DateTransformer())\n",
    "                                 ])),\n",
    "                     ])),\n",
    "\n",
    "                    ('scaler', StandardScaler(with_mean=False)),\n",
    "                    ('upsample', SMOTE()),\n",
    "                    ('select', SelectPercentile(f_classif)),\n",
    "                    ('clf', eclf)])\n",
    "\n",
    "    gs = GridSearchCV(pipe, param_grid=params, scoring = scoring, refit='accuracy',\n",
    "                      n_jobs=-1, verbose=True, cv=5, return_train_score=False)\n",
    "    gs.fit(X_train, y_train)\n",
    "    best_score = gs.best_score_\n",
    "    best_params = gs.best_params_\n",
    "    y_pred = gs.predict(X_test)\n",
    "    y_prob = gs.predict_proba(X_test)\n",
    "    acc = metrics.accuracy_score(y_test,y_pred)\n",
    "    precision, recall, _ = metrics.precision_recall_curve(y_test, y_pred)\n",
    "    auc = metrics.auc(precision, recall)\n",
    "    average_precision = metrics.average_precision_score(y_test, y_pred)\n",
    "    fbeta = metrics.fbeta_score(y_test,y_pred,beta=1.5) \n",
    "    print(\"Best score on training data:  {0:.2f}\".format(best_score))\n",
    "    print(\"Accuracy on test data:  {0:.2f}\".format(acc))\n",
    "    print(\"Fbeta on test data:  {0:.2f}\".format(fbeta))\n",
    "    print(\"AUC on test data:  {0:.2f}\".format(auc))\n",
    "    print(best_params)\n",
    "    print('=' * 80)\n",
    "    if pickle_best_estimator:\n",
    "        pickle_path = os.path.join('best_estimators','label_best_estimator.pkl')\n",
    "        with open(pickle_path, 'wb') as f: \n",
    "            pickle.dump(gs.best_estimator_, f)  \n",
    "    return (y_pred, y_prob, precision, recall, average_precision, y_test)"
   ]
  },
  {
   "cell_type": "code",
   "execution_count": 76,
   "metadata": {},
   "outputs": [
    {
     "name": "stdout",
     "output_type": "stream",
     "text": [
      "Fitting 5 folds for each of 384 candidates, totalling 1920 fits\n"
     ]
    },
    {
     "name": "stderr",
     "output_type": "stream",
     "text": [
      "[Parallel(n_jobs=-1)]: Done  42 tasks      | elapsed:  1.3min\n",
      "[Parallel(n_jobs=-1)]: Done 192 tasks      | elapsed:  7.7min\n",
      "[Parallel(n_jobs=-1)]: Done 442 tasks      | elapsed: 20.1min\n",
      "[Parallel(n_jobs=-1)]: Done 792 tasks      | elapsed: 36.8min\n",
      "[Parallel(n_jobs=-1)]: Done 1242 tasks      | elapsed: 63.8min\n",
      "[Parallel(n_jobs=-1)]: Done 1792 tasks      | elapsed: 103.7min\n",
      "[Parallel(n_jobs=-1)]: Done 1920 out of 1920 | elapsed: 114.5min finished\n"
     ]
    },
    {
     "name": "stdout",
     "output_type": "stream",
     "text": [
      "Best score on training data:  0.84\n",
      "Accuracy on test data:  0.90\n",
      "Fbeta on test data:  0.79\n",
      "AUC on test data:  0.55\n",
      "{'clf__ada__learning_rate': 0.1, 'clf__ada__n_estimators': 100, 'clf__etc__max_depth': 4, 'clf__etc__max_features': 'sqrt', 'clf__etc__min_samples_split': 10, 'clf__etc__n_estimators': 100, 'clf__gbc__learning_rate': 0.1, 'clf__gbc__max_depth': 4, 'clf__gbc__max_features': 'sqrt', 'clf__gbc__min_samples_split': 10, 'clf__gbc__n_estimators': 300, 'clf__rfc__max_depth': 4, 'clf__rfc__max_features': 'sqrt', 'clf__rfc__min_samples_split': 10, 'clf__rfc__n_estimators': 100, 'features__word2vec__vectorizer__w2v': 'w2v', 'select': SelectPercentile(percentile=50,\n",
      "         score_func=<function f_classif at 0x1114e0510>), 'upsample': None}\n",
      "================================================================================\n"
     ]
    }
   ],
   "source": [
    "warnings.filterwarnings('ignore')\n",
    "results = voting_classifier(pickle_best_estimator=False)"
   ]
  },
  {
   "cell_type": "markdown",
   "metadata": {},
   "source": [
    "## Precision-Recall AUC"
   ]
  },
  {
   "cell_type": "code",
   "execution_count": 111,
   "metadata": {},
   "outputs": [],
   "source": [
    "y_pred, y_prob, precision, recall, average_precision, y_test = results"
   ]
  },
  {
   "cell_type": "code",
   "execution_count": 112,
   "metadata": {},
   "outputs": [
    {
     "data": {
      "text/plain": [
       "Text(0.5,1,'2-class Precision-Recall curve: AP=0.75')"
      ]
     },
     "execution_count": 112,
     "metadata": {},
     "output_type": "execute_result"
    },
    {
     "data": {
      "image/png": "[encoded data removed]",
      "text/plain": [
       "<Figure size 432x288 with 1 Axes>"
      ]
     },
     "metadata": {},
     "output_type": "display_data"
    }
   ],
   "source": [
    "plt.step(recall, precision, color='b', alpha=0.2,\n",
    "         where='post')\n",
    "plt.fill_between(recall, precision, step='post', alpha=0.2,\n",
    "                 color='b')\n",
    "\n",
    "plt.xlabel('Recall')\n",
    "plt.ylabel('Precision')\n",
    "plt.ylim([0.0, 1.05])\n",
    "plt.xlim([0.0, 1.0])\n",
    "plt.title('2-class Precision-Recall curve: AP={0:0.2f}'.format(\n",
    "          average_precision))"
   ]
  },
  {
   "cell_type": "markdown",
   "metadata": {},
   "source": [
    "## Confusion Matrix"
   ]
  },
  {
   "cell_type": "code",
   "execution_count": 113,
   "metadata": {},
   "outputs": [
    {
     "data": {
      "text/plain": [
       "Text(0.5,56.3,'Predicted')"
      ]
     },
     "execution_count": 113,
     "metadata": {},
     "output_type": "execute_result"
    },
    {
     "data": {
      "image/png": "[encoded data removed]",
      "text/plain": [
       "<Figure size 720x720 with 2 Axes>"
      ]
     },
     "metadata": {},
     "output_type": "display_data"
    }
   ],
   "source": [
    "cm = metrics.confusion_matrix(y_test, y_pred)\n",
    "fig, ax = plt.subplots(figsize=(10,10))\n",
    "sns.set_context('poster')\n",
    "sns.heatmap(cm, annot=True, fmt='d',\n",
    "            xticklabels=['ham','spam'], yticklabels=['ham','spam'])\n",
    "plt.ylabel('Actual')\n",
    "plt.xlabel('Predicted')"
   ]
  }
 ],
 "metadata": {
  "kernelspec": {
   "display_name": "Python 3",
   "language": "python",
   "name": "python3"
  },
  "language_info": {
   "codemirror_mode": {
    "name": "ipython",
    "version": 3
   },
   "file_extension": ".py",
   "mimetype": "text/x-python",
   "name": "python",
   "nbconvert_exporter": "python",
   "pygments_lexer": "ipython3",
   "version": "3.6.5"
  }
 },
 "nbformat": 4,
 "nbformat_minor": 2
}
